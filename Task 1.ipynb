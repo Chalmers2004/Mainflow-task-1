{
 "cells": [
  {
   "cell_type": "code",
   "execution_count": 1,
   "id": "d6c48ee2-1639-4840-b06a-e3d3f57fed74",
   "metadata": {},
   "outputs": [
    {
     "name": "stdout",
     "output_type": "stream",
     "text": [
      "Original list: [1, 2, 3]\n",
      "List after adding 4: [1, 2, 3, 4]\n",
      "List after removing 2: [1, 3, 4]\n",
      "\n",
      "Original dictionary: {'a': 1, 'b': 2, 'c': 3}\n",
      "Dictionary after adding {'d': 4}: {'a': 1, 'b': 2, 'c': 3, 'd': 4}\n",
      "Dictionary after removing key 'b': {'a': 1, 'c': 3, 'd': 4}\n",
      "\n",
      "Original set: {1, 2, 3}\n",
      "Set after adding 4: {1, 2, 3, 4}\n",
      "Set after removing 2: {1, 3, 4}\n"
     ]
    }
   ],
   "source": [
    "# List operations\n",
    "my_list = [1, 2, 3]\n",
    "print(\"Original list:\", my_list)\n",
    "\n",
    "# Adding elements to the list\n",
    "my_list.append(4)\n",
    "print(\"List after adding 4:\", my_list)\n",
    "\n",
    "# Removing elements from the list\n",
    "my_list.remove(2)\n",
    "print(\"List after removing 2:\", my_list)\n",
    "\n",
    "# Dictionary operations\n",
    "my_dict = {'a': 1, 'b': 2, 'c': 3}\n",
    "print(\"\\nOriginal dictionary:\", my_dict)\n",
    "\n",
    "# Adding elements to the dictionary\n",
    "my_dict['d'] = 4\n",
    "print(\"Dictionary after adding {'d': 4}:\", my_dict)\n",
    "\n",
    "# Removing elements from the dictionary\n",
    "del my_dict['b']\n",
    "print(\"Dictionary after removing key 'b':\", my_dict)\n",
    "\n",
    "# Set operations\n",
    "my_set = {1, 2, 3}\n",
    "print(\"\\nOriginal set:\", my_set)\n",
    "\n",
    "# Adding elements to the set\n",
    "my_set.add(4)\n",
    "print(\"Set after adding 4:\", my_set)\n",
    "\n",
    "# Removing elements from the set\n",
    "my_set.remove(2)\n",
    "print(\"Set after removing 2:\", my_set)"
   ]
  },
  {
   "cell_type": "code",
   "execution_count": null,
   "id": "035fafbf-2eb7-43e7-b8a8-6f4d517024ca",
   "metadata": {},
   "outputs": [],
   "source": []
  }
 ],
 "metadata": {
  "kernelspec": {
   "display_name": "Python 3 (ipykernel)",
   "language": "python",
   "name": "python3"
  },
  "language_info": {
   "codemirror_mode": {
    "name": "ipython",
    "version": 3
   },
   "file_extension": ".py",
   "mimetype": "text/x-python",
   "name": "python",
   "nbconvert_exporter": "python",
   "pygments_lexer": "ipython3",
   "version": "3.11.7"
  }
 },
 "nbformat": 4,
 "nbformat_minor": 5
}
